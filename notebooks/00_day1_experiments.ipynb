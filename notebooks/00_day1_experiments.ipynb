{
 "cells": [
  {
   "cell_type": "code",
   "execution_count": 7,
   "id": "e9b25d6a",
   "metadata": {},
   "outputs": [
    {
     "name": "stdout",
     "output_type": "stream",
     "text": [
      "{'hi': 2, 'hello': 5}\n",
      "{'hi': 2}\n",
      "Found: test_1.txt Content: File number 1\n",
      "Found: test_2.txt Content: File number 2\n",
      "Found: test_0.txt Content: File number 0\n"
     ]
    }
   ],
   "source": [
    "from typing import Dict, List\n",
    "\n",
    "def word_count(msgs: List[str]) -> Dict[str, int]:\n",
    "    if not isinstance(msgs, list) or not all(isinstance(msg, str) for msg in msgs):\n",
    "        raise TypeError(\"Input must be a list of strings\")\n",
    "    return {msg: len(msg) for msg in msgs}\n",
    "\n",
    "print(word_count([\"hi\", \"hello\"]))\n",
    "\n",
    "# Try \"wrong\" input\n",
    "try:\n",
    "    print(word_count([\"hi\"]))   # Notice how Python runs, but tools would warn\n",
    "except TypeError as e:\n",
    "    print(f\"Error: {e}\")\n",
    "\n",
    "\n",
    "from pathlib import Path\n",
    "\n",
    "base = Path(\"data/tests\")\n",
    "base.mkdir(parents=True, exist_ok=True)\n",
    "\n",
    "# Write multiple files\n",
    "for i in range(3):\n",
    "    f = base / f\"test_{i}.txt\"\n",
    "    f.write_text(f\"File number {i}\")\n",
    "\n",
    "# List files and contents\n",
    "for file in base.iterdir():\n",
    "    print(\"Found:\", file.name, \"Content:\", file.read_text())\n",
    "\n"
   ]
  },
  {
   "cell_type": "code",
   "execution_count": null,
   "id": "4b0ca994",
   "metadata": {},
   "outputs": [],
   "source": []
  },
  {
   "cell_type": "markdown",
   "id": "53331e55",
   "metadata": {},
   "source": []
  }
 ],
 "metadata": {
  "kernelspec": {
   "display_name": "Python 3",
   "language": "python",
   "name": "python3"
  },
  "language_info": {
   "codemirror_mode": {
    "name": "ipython",
    "version": 3
   },
   "file_extension": ".py",
   "mimetype": "text/x-python",
   "name": "python",
   "nbconvert_exporter": "python",
   "pygments_lexer": "ipython3",
   "version": "3.12.1"
  }
 },
 "nbformat": 4,
 "nbformat_minor": 5
}
