{
 "cells": [
  {
   "cell_type": "code",
   "execution_count": 4,
   "id": "26155f56",
   "metadata": {},
   "outputs": [
    {
     "name": "stdout",
     "output_type": "stream",
     "text": [
      "/home/codespace/.python/current/bin/python 3.12.1\n",
      "Hello, Alice!\n",
      "Hello, Bob!\n",
      "Current directory: /workspaces/ai-llm-journy-week1-sms-calculatror/notebooks\n",
      "File content: Hello AI Journey!\n",
      "Notebook ready inside GitHub Codespaces 🚀\n"
     ]
    }
   ],
   "source": [
    "import sys, platform; print(sys.executable, platform.python_version())\n",
    "\n",
    "from typing import List\n",
    "\n",
    "def greet(names: List[str]) -> None:\n",
    "    for n in names:\n",
    "        print(f\"Hello, {n}!\")\n",
    "\n",
    "greet([\"Alice\", \"Bob\"])\n",
    "\n",
    "\n",
    "from pathlib import Path\n",
    "\n",
    "# Current directory\n",
    "p = Path(\".\")\n",
    "print(\"Current directory:\", p.resolve())\n",
    "\n",
    "# Make a folder\n",
    "data_dir = p / \"data\"\n",
    "data_dir.mkdir(exist_ok=True)\n",
    "\n",
    "# Write file\n",
    "file_path = data_dir / \"hello.txt\"\n",
    "file_path.write_text(\"Hello AI Journey!\")\n",
    "\n",
    "# Read file\n",
    "print(\"File content:\", file_path.read_text())\n",
    "\n",
    "print(\"Notebook ready inside GitHub Codespaces 🚀\")\n",
    "\n"
   ]
  }
 ],
 "metadata": {
  "kernelspec": {
   "display_name": "Python 3",
   "language": "python",
   "name": "python3"
  },
  "language_info": {
   "codemirror_mode": {
    "name": "ipython",
    "version": 3
   },
   "file_extension": ".py",
   "mimetype": "text/x-python",
   "name": "python",
   "nbconvert_exporter": "python",
   "pygments_lexer": "ipython3",
   "version": "3.12.1"
  }
 },
 "nbformat": 4,
 "nbformat_minor": 5
}
