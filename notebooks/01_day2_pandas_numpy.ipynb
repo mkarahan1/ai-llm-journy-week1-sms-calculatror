{
 "cells": [
  {
   "cell_type": "code",
   "execution_count": null,
   "id": "a123dcdf",
   "metadata": {},
   "outputs": [],
   "source": []
  },
  {
   "cell_type": "code",
   "execution_count": null,
   "id": "f6b78f05",
   "metadata": {},
   "outputs": [
    {
     "name": "stdout",
     "output_type": "stream",
     "text": [
      "<class 'pandas.core.frame.DataFrame'>\n",
      "RangeIndex: 5 entries, 0 to 4\n",
      "Data columns (total 2 columns):\n",
      " #   Column   Non-Null Count  Dtype \n",
      "---  ------   --------------  ----- \n",
      " 0   label    5 non-null      object\n",
      " 1   message  5 non-null      object\n",
      "dtypes: object(2)\n",
      "memory usage: 212.0+ bytes\n",
      "None\n",
      "       label            message\n",
      "count      5                  5\n",
      "unique     2                  5\n",
      "top      ham  Hey, how are you?\n",
      "freq       3                  1\n",
      "label\n",
      "ham     3\n",
      "spam    2\n",
      "Name: count, dtype: int64\n",
      "label                                            spam\n",
      "message       Congratulations, you won cash prize $$$\n",
      "msg_length                                         39\n",
      "Name: 3, dtype: object\n",
      "Mean: 25.4\n",
      "Std Dev: 7.605261336732617\n",
      "Random 3 messages: ['Are we still meeting today?' 'See you at the party'\n",
      " 'Congratulations, you won cash prize $$$']\n"
     ]
    },
    {
     "data": {
      "image/png": "[encoded data removed]",
      "text/plain": [
       "<Figure size 640x480 with 1 Axes>"
      ]
     },
     "metadata": {},
     "output_type": "display_data"
    }
   ],
   "source": [
    "import pandas as pd\n",
    "\n",
    "data = {\n",
    "    \"label\": [\"ham\", \"spam\", \"ham\", \"spam\", \"ham\"],\n",
    "    \"message\": [\n",
    "        \"Hey, how are you?\",\n",
    "        \"WIN a free ticket now!!!\",\n",
    "        \"Are we still meeting today?\",\n",
    "        \"Congratulations, you won cash prize $$$\",\n",
    "        \"See you at the party\"\n",
    "    ]\n",
    "}\n",
    "\n",
    "df = pd.DataFrame(data)\n",
    "df.head()\n",
    "\n",
    "\n",
    "print(df.info())\n",
    "print(df.describe(include=\"all\"))\n",
    "print(df['label'].value_counts())\n",
    "\n",
    "# Add message length column\n",
    "df['msg_length'] = df['message'].str.len()\n",
    "\n",
    "# Show longest message\n",
    "print(df.loc[df['msg_length'].idxmax()])\n",
    "\n",
    "import numpy as np\n",
    "\n",
    "# Message lengths as numpy array\n",
    "lengths = df['msg_length'].to_numpy()\n",
    "print(\"Mean:\", np.mean(lengths))\n",
    "print(\"Std Dev:\", np.std(lengths))\n",
    "\n",
    "# Random sample\n",
    "print(\"Random 3 messages:\", np.random.choice(df['message'], 3))\n",
    "\n",
    "import matplotlib.pyplot as plt\n",
    "\n",
    "df['msg_length'].hist(bins=10)\n",
    "plt.title(\"Distribution of Message Lengths\")\n",
    "plt.xlabel(\"Message Length\")\n",
    "plt.ylabel(\"Count\")\n",
    "plt.show()\n",
    "\n",
    "\n",
    "\n"
   ]
  }
 ],
 "metadata": {
  "kernelspec": {
   "display_name": ".venv",
   "language": "python",
   "name": "python3"
  },
  "language_info": {
   "codemirror_mode": {
    "name": "ipython",
    "version": 3
   },
   "file_extension": ".py",
   "mimetype": "text/x-python",
   "name": "python",
   "nbconvert_exporter": "python",
   "pygments_lexer": "ipython3",
   "version": "3.12.1"
  }
 },
 "nbformat": 4,
 "nbformat_minor": 5
}
